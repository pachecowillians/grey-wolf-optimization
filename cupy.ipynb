{
 "cells": [
  {
   "cell_type": "code",
   "execution_count": 17,
   "metadata": {},
   "outputs": [
    {
     "name": "stdout",
     "output_type": "stream",
     "text": [
      "Tempo com NumPy: 8.36266803741455 segundos\n",
      "Tempo com CuPy: 0.0005435943603515625 segundos\n",
      "CuPy foi 15384.02 vezes mais rápido que NumPy para multiplicação de matrizes.\n"
     ]
    }
   ],
   "source": [
    "# pip install cupy-cuda11x\n",
    "\n",
    "import numpy as np\n",
    "import cupy as cp\n",
    "import time\n",
    "\n",
    "# Tamanho das matrizes\n",
    "n = 10_000\n",
    "\n",
    "# Criando matrizes NumPy\n",
    "a_np = np.random.rand(n, n)\n",
    "b_np = np.random.rand(n, n)\n",
    "\n",
    "# Criando matrizes CuPy\n",
    "a_cp = cp.array(a_np)\n",
    "b_cp = cp.array(b_np)\n",
    "\n",
    "# Multiplicação de matrizes com NumPy\n",
    "start_time = time.time()\n",
    "result_np = np.dot(a_np, b_np)\n",
    "numpy_time = time.time() - start_time\n",
    "print(f\"Tempo com NumPy: {numpy_time} segundos\")\n",
    "\n",
    "# Multiplicação de matrizes com CuPy\n",
    "start_time = time.time()\n",
    "result_cp = cp.dot(a_cp, b_cp)\n",
    "cupy_time = time.time() - start_time\n",
    "print(f\"Tempo com CuPy: {cupy_time} segundos\")\n",
    "\n",
    "# Comparando resultados para garantir precisão\n",
    "np.testing.assert_almost_equal(result_np, cp.asnumpy(result_cp))\n",
    "\n",
    "# Comparando tempos de execução\n",
    "speedup = numpy_time / cupy_time\n",
    "print(f\"CuPy foi {speedup:.2f} vezes mais rápido que NumPy para multiplicação de matrizes.\")\n"
   ]
  }
 ],
 "metadata": {
  "kernelspec": {
   "display_name": ".venv",
   "language": "python",
   "name": "python3"
  },
  "language_info": {
   "codemirror_mode": {
    "name": "ipython",
    "version": 3
   },
   "file_extension": ".py",
   "mimetype": "text/x-python",
   "name": "python",
   "nbconvert_exporter": "python",
   "pygments_lexer": "ipython3",
   "version": "3.10.12"
  }
 },
 "nbformat": 4,
 "nbformat_minor": 2
}
