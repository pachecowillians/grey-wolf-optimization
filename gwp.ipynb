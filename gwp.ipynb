{
 "cells": [
  {
   "cell_type": "code",
   "execution_count": 81,
   "metadata": {},
   "outputs": [],
   "source": [
    "import cupy as cp"
   ]
  },
  {
   "cell_type": "code",
   "execution_count": 82,
   "metadata": {},
   "outputs": [],
   "source": [
    "NUM_WOLFS = 100"
   ]
  },
  {
   "cell_type": "code",
   "execution_count": 83,
   "metadata": {},
   "outputs": [],
   "source": [
    "def cost_function(sample):\n",
    "    return (sample - 3) ** 2 + 4"
   ]
  },
  {
   "cell_type": "code",
   "execution_count": 84,
   "metadata": {},
   "outputs": [],
   "source": [
    "def generate_wolf():\n",
    "    position = cp.random.rand() * 100\n",
    "\n",
    "    return {\"position\": position, \"score\": cost_function(position), \"type\": \"omega\"}"
   ]
  },
  {
   "cell_type": "code",
   "execution_count": 85,
   "metadata": {},
   "outputs": [],
   "source": [
    "def determine_leaders(wolfs):\n",
    "    sorted_wolfs = sorted(wolfs, key=lambda x: x[\"score\"])\n",
    "    sorted_wolfs[0][\"type\"] = \"alpha\"\n",
    "    sorted_wolfs[1][\"type\"] = \"beta\"\n",
    "    sorted_wolfs[2][\"type\"] = \"delta\"\n",
    "    print(sorted_wolfs)"
   ]
  },
  {
   "cell_type": "code",
   "execution_count": 86,
   "metadata": {},
   "outputs": [],
   "source": [
    "wolfs = [generate_wolf() for _ in range(NUM_WOLFS)]"
   ]
  },
  {
   "cell_type": "code",
   "execution_count": 87,
   "metadata": {},
   "outputs": [
    {
     "name": "stdout",
     "output_type": "stream",
     "text": [
      "[{'position': array(3.31469002), 'score': array(4.09902981), 'type': 'alpha'}, {'position': array(3.42274842), 'score': array(4.17871623), 'type': 'beta'}, {'position': array(2.56883827), 'score': array(4.18590043), 'type': 'delta'}, {'position': array(1.27276599), 'score': array(6.98333733), 'type': 'omega'}, {'position': array(0.03891484), 'score': array(12.7680253), 'type': 'omega'}, {'position': array(6.87414151), 'score': array(19.00897246), 'type': 'omega'}, {'position': array(8.97995649), 'score': array(39.7598796), 'type': 'omega'}, {'position': array(9.05227529), 'score': array(40.63003622), 'type': 'omega'}, {'position': array(12.11567508), 'score': array(87.09553208), 'type': 'omega'}, {'position': array(12.87964708), 'score': array(101.60742642), 'type': 'omega'}, {'position': array(13.16635153), 'score': array(107.35470353), 'type': 'omega'}, {'position': array(13.47338381), 'score': array(113.69176834), 'type': 'omega'}, {'position': array(13.76943544), 'score': array(119.98073966), 'type': 'omega'}, {'position': array(14.50761138), 'score': array(136.42511977), 'type': 'omega'}, {'position': array(14.76329476), 'score': array(142.37510366), 'type': 'omega'}, {'position': array(15.0143617), 'score': array(148.34488717), 'type': 'omega'}, {'position': array(15.05518595), 'score': array(149.3275084), 'type': 'omega'}, {'position': array(16.15337245), 'score': array(177.01120673), 'type': 'omega'}, {'position': array(17.34563652), 'score': array(209.79728715), 'type': 'omega'}, {'position': array(19.01875217), 'score': array(260.60042098), 'type': 'omega'}, {'position': array(20.46097099), 'score': array(308.88550791), 'type': 'omega'}, {'position': array(20.65732643), 'score': array(315.78117665), 'type': 'omega'}, {'position': array(21.62687007), 'score': array(350.96028855), 'type': 'omega'}, {'position': array(23.28903662), 'score': array(415.64500693), 'type': 'omega'}, {'position': array(25.1092044), 'score': array(492.81691924), 'type': 'omega'}, {'position': array(25.75746776), 'score': array(521.90233905), 'type': 'omega'}, {'position': array(25.89510119), 'score': array(528.18565833), 'type': 'omega'}, {'position': array(26.59986587), 'score': array(560.95366925), 'type': 'omega'}, {'position': array(26.73892709), 'score': array(567.53665948), 'type': 'omega'}, {'position': array(26.87464289), 'score': array(573.99857313), 'type': 'omega'}, {'position': array(27.77762507), 'score': array(617.93070426), 'type': 'omega'}, {'position': array(28.03641882), 'score': array(630.82226712), 'type': 'omega'}, {'position': array(28.35826185), 'score': array(647.04144403), 'type': 'omega'}, {'position': array(29.1726162), 'score': array(689.00583857), 'type': 'omega'}, {'position': array(29.54269321), 'score': array(708.51456284), 'type': 'omega'}, {'position': array(30.76102687), 'score': array(774.67461288), 'type': 'omega'}, {'position': array(31.3923316), 'score': array(810.12449383), 'type': 'omega'}, {'position': array(32.07299973), 'score': array(849.23931354), 'type': 'omega'}, {'position': array(33.55867636), 'score': array(937.8327009), 'type': 'omega'}, {'position': array(38.61137579), 'score': array(1272.17008576), 'type': 'omega'}, {'position': array(39.41142853), 'score': array(1329.79212765), 'type': 'omega'}, {'position': array(39.44500532), 'score': array(1332.23841285), 'type': 'omega'}, {'position': array(41.34741384), 'score': array(1474.5241479), 'type': 'omega'}, {'position': array(42.143268), 'score': array(1536.19542958), 'type': 'omega'}, {'position': array(42.30864378), 'score': array(1549.16947556), 'type': 'omega'}, {'position': array(42.69965893), 'score': array(1580.06291895), 'type': 'omega'}, {'position': array(43.84956422), 'score': array(1672.68689664), 'type': 'omega'}, {'position': array(44.26996054), 'score': array(1707.2096431), 'type': 'omega'}, {'position': array(47.66761695), 'score': array(1999.19600413), 'type': 'omega'}, {'position': array(48.44873327), 'score': array(2069.58735614), 'type': 'omega'}, {'position': array(49.04508192), 'score': array(2124.14956937), 'type': 'omega'}, {'position': array(49.58510809), 'score': array(2174.17229592), 'type': 'omega'}, {'position': array(50.66926104), 'score': array(2276.35844806), 'type': 'omega'}, {'position': array(51.32552912), 'score': array(2339.35676433), 'type': 'omega'}, {'position': array(51.98979819), 'score': array(2404.00032712), 'type': 'omega'}, {'position': array(52.53276682), 'score': array(2457.49498898), 'type': 'omega'}, {'position': array(52.80186559), 'score': array(2484.2258163), 'type': 'omega'}, {'position': array(52.81034531), 'score': array(2485.07049973), 'type': 'omega'}, {'position': array(52.99291582), 'score': array(2503.29163185), 'type': 'omega'}, {'position': array(53.12089233), 'score': array(2516.1038479), 'type': 'omega'}, {'position': array(53.6021248), 'score': array(2564.57503388), 'type': 'omega'}, {'position': array(56.81119609), 'score': array(2899.64482421), 'type': 'omega'}, {'position': array(56.89794904), 'score': array(2908.98891089), 'type': 'omega'}, {'position': array(59.47993351), 'score': array(3193.98288933), 'type': 'omega'}, {'position': array(61.30638956), 'score': array(3403.63506375), 'type': 'omega'}, {'position': array(61.47407455), 'score': array(3423.21739495), 'type': 'omega'}, {'position': array(61.5800003), 'score': array(3435.61643533), 'type': 'omega'}, {'position': array(61.98484846), 'score': array(3483.2123477), 'type': 'omega'}, {'position': array(62.20657597), 'score': array(3509.41863809), 'type': 'omega'}, {'position': array(66.06033912), 'score': array(3980.60636996), 'type': 'omega'}, {'position': array(66.27822468), 'score': array(4008.13371814), 'type': 'omega'}, {'position': array(67.30812615), 'score': array(4139.5350883), 'type': 'omega'}, {'position': array(67.50368049), 'score': array(4164.72479619), 'type': 'omega'}, {'position': array(70.45586862), 'score': array(4554.29421088), 'type': 'omega'}, {'position': array(70.57993336), 'score': array(4571.04739305), 'type': 'omega'}, {'position': array(71.18364692), 'score': array(4653.00970677), 'type': 'omega'}, {'position': array(75.30153367), 'score': array(5231.51177089), 'type': 'omega'}, {'position': array(76.50757303), 'score': array(5407.36329246), 'type': 'omega'}, {'position': array(79.6132289), 'score': array(5873.58684275), 'type': 'omega'}, {'position': array(79.78737389), 'score': array(5900.30078866), 'type': 'omega'}, {'position': array(79.80342217), 'score': array(5902.76565772), 'type': 'omega'}, {'position': array(80.74389859), 'score': array(6048.11376859), 'type': 'omega'}, {'position': array(81.21306977), 'score': array(6121.28428274), 'type': 'omega'}, {'position': array(82.06759923), 'score': array(6255.68524773), 'type': 'omega'}, {'position': array(82.80814273), 'score': array(6373.33964524), 'type': 'omega'}, {'position': array(84.94985732), 'score': array(6719.77911476), 'type': 'omega'}, {'position': array(85.21802487), 'score': array(6763.80361426), 'type': 'omega'}, {'position': array(85.55878022), 'score': array(6819.95219213), 'type': 'omega'}, {'position': array(89.97882399), 'score': array(7569.31582202), 'type': 'omega'}, {'position': array(90.30682672), 'score': array(7626.48199223), 'type': 'omega'}, {'position': array(91.19223531), 'score': array(7781.87036873), 'type': 'omega'}, {'position': array(91.26706356), 'score': array(7795.07450879), 'type': 'omega'}, {'position': array(91.91681186), 'score': array(7910.19943106), 'type': 'omega'}, {'position': array(91.93152206), 'score': array(7912.81561577), 'type': 'omega'}, {'position': array(92.83785036), 'score': array(8074.83935738), 'type': 'omega'}, {'position': array(97.60006552), 'score': array(8953.17239622), 'type': 'omega'}, {'position': array(98.46535458), 'score': array(9117.63392427), 'type': 'omega'}, {'position': array(98.69750153), 'score': array(9162.01179939), 'type': 'omega'}, {'position': array(99.30588493), 'score': array(9278.82347148), 'type': 'omega'}, {'position': array(99.79741246), 'score': array(9373.73905904), 'type': 'omega'}]\n"
     ]
    }
   ],
   "source": [
    "determine_leaders(wolfs)"
   ]
  }
 ],
 "metadata": {
  "kernelspec": {
   "display_name": ".venv",
   "language": "python",
   "name": "python3"
  },
  "language_info": {
   "codemirror_mode": {
    "name": "ipython",
    "version": 3
   },
   "file_extension": ".py",
   "mimetype": "text/x-python",
   "name": "python",
   "nbconvert_exporter": "python",
   "pygments_lexer": "ipython3",
   "version": "3.10.12"
  }
 },
 "nbformat": 4,
 "nbformat_minor": 2
}
