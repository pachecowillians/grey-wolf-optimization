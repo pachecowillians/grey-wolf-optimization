{
 "cells": [
  {
   "cell_type": "code",
   "execution_count": 12,
   "metadata": {},
   "outputs": [],
   "source": [
    "import cupy as cp"
   ]
  },
  {
   "cell_type": "code",
   "execution_count": 13,
   "metadata": {},
   "outputs": [],
   "source": [
    "NUM_WOLFS = 100"
   ]
  },
  {
   "cell_type": "code",
   "execution_count": 14,
   "metadata": {},
   "outputs": [],
   "source": [
    "def cost_function(sample):\n",
    "    return (sample - 3) ** 2 + 4"
   ]
  },
  {
   "cell_type": "code",
   "execution_count": 15,
   "metadata": {},
   "outputs": [],
   "source": [
    "def generate_wolf():\n",
    "    position = cp.random.rand() * 100\n",
    "\n",
    "    return {\n",
    "        \"position\": position,\n",
    "        \"score\": cost_function(position),\n",
    "    }"
   ]
  },
  {
   "cell_type": "code",
   "execution_count": 17,
   "metadata": {},
   "outputs": [
    {
     "data": {
      "text/plain": [
       "[{'position': array(97.08654927), 'score': array(8856.27875324)},\n",
       " {'position': array(92.50030852), 'score': array(8014.30522461)},\n",
       " {'position': array(14.38935228), 'score': array(133.71734543)},\n",
       " {'position': array(30.68009455), 'score': array(770.1876343)},\n",
       " {'position': array(29.95700796), 'score': array(730.68027825)},\n",
       " {'position': array(94.04205521), 'score': array(8292.65581773)},\n",
       " {'position': array(20.30215126), 'score': array(303.36443835)},\n",
       " {'position': array(74.28885984), 'score': array(5086.10153759)},\n",
       " {'position': array(88.64290197), 'score': array(7338.70665703)},\n",
       " {'position': array(9.48016715), 'score': array(45.99256628)},\n",
       " {'position': array(51.17809433), 'score': array(2325.12877318)},\n",
       " {'position': array(18.93651241), 'score': array(257.97242772)},\n",
       " {'position': array(0.41035847), 'score': array(10.70624326)},\n",
       " {'position': array(81.72035263), 'score': array(6200.89391831)},\n",
       " {'position': array(44.6130154), 'score': array(1735.6430507)},\n",
       " {'position': array(43.97752695), 'score': array(1683.15771477)},\n",
       " {'position': array(50.52448316), 'score': array(2262.57649992)},\n",
       " {'position': array(36.72392647), 'score': array(1141.30321628)},\n",
       " {'position': array(11.86771083), 'score': array(82.63629539)},\n",
       " {'position': array(56.01539127), 'score': array(2814.6317114)},\n",
       " {'position': array(69.84915046), 'score': array(4472.80891781)},\n",
       " {'position': array(3.57340823), 'score': array(4.328797)},\n",
       " {'position': array(24.25873791), 'score': array(455.93393743)},\n",
       " {'position': array(95.60986453), 'score': array(8580.58700852)},\n",
       " {'position': array(51.42285158), 'score': array(2348.77255518)},\n",
       " {'position': array(87.91369675), 'score': array(7214.33589574)},\n",
       " {'position': array(20.0619959), 'score': array(295.11170407)},\n",
       " {'position': array(47.03129064), 'score': array(1942.75455541)},\n",
       " {'position': array(61.07716908), 'score': array(3376.95756881)},\n",
       " {'position': array(27.48185905), 'score': array(603.36142259)},\n",
       " {'position': array(60.03865418), 'score': array(3257.40807012)},\n",
       " {'position': array(65.08685068), 'score': array(3858.77702755)},\n",
       " {'position': array(39.94043641), 'score': array(1368.59584207)},\n",
       " {'position': array(79.07653522), 'score': array(5791.63921148)},\n",
       " {'position': array(38.63774275), 'score': array(1274.04870821)},\n",
       " {'position': array(90.28590117), 'score': array(7622.82854252)},\n",
       " {'position': array(25.13748928), 'score': array(494.06843178)},\n",
       " {'position': array(72.88672454), 'score': array(4888.15426673)},\n",
       " {'position': array(2.40544023), 'score': array(4.35350132)},\n",
       " {'position': array(70.61552815), 'score': array(4575.85964674)},\n",
       " {'position': array(6.03252836), 'score': array(13.19622822)},\n",
       " {'position': array(51.76887953), 'score': array(2382.40361089)},\n",
       " {'position': array(50.97557172), 'score': array(2305.65548184)},\n",
       " {'position': array(97.10668566), 'score': array(8860.06828611)},\n",
       " {'position': array(26.88056703), 'score': array(574.28148186)},\n",
       " {'position': array(8.91044736), 'score': array(38.93338797)},\n",
       " {'position': array(14.40698244), 'score': array(134.11924842)},\n",
       " {'position': array(19.51036675), 'score': array(276.59221025)},\n",
       " {'position': array(96.40776868), 'score': array(8729.01124911)},\n",
       " {'position': array(56.57684829), 'score': array(2874.47867261)},\n",
       " {'position': array(96.41308792), 'score': array(8730.00499513)},\n",
       " {'position': array(15.03158162), 'score': array(148.75895633)},\n",
       " {'position': array(36.29933901), 'score': array(1112.84597836)},\n",
       " {'position': array(31.86478572), 'score': array(837.17585452)},\n",
       " {'position': array(5.40834485), 'score': array(9.80012494)},\n",
       " {'position': array(45.890207), 'score': array(1843.56985676)},\n",
       " {'position': array(31.61069779), 'score': array(822.57202791)},\n",
       " {'position': array(15.27023979), 'score': array(154.5587846)},\n",
       " {'position': array(59.2887131), 'score': array(3172.4192221)},\n",
       " {'position': array(92.16196248), 'score': array(7953.85555248)},\n",
       " {'position': array(97.1877802), 'score': array(8875.33793861)},\n",
       " {'position': array(42.13717687), 'score': array(1535.71861306)},\n",
       " {'position': array(61.37816842), 'score': array(3412.01054751)},\n",
       " {'position': array(42.65492383), 'score': array(1576.51298361)},\n",
       " {'position': array(37.38186538), 'score': array(1186.11266715)},\n",
       " {'position': array(73.33887221), 'score': array(4951.55694336)},\n",
       " {'position': array(36.46228592), 'score': array(1123.72457872)},\n",
       " {'position': array(10.25353695), 'score': array(56.61379835)},\n",
       " {'position': array(82.2441108), 'score': array(6283.62909572)},\n",
       " {'position': array(11.52080034), 'score': array(76.60403851)},\n",
       " {'position': array(95.32830878), 'score': array(8528.51660255)},\n",
       " {'position': array(87.38053068), 'score': array(7124.07395816)},\n",
       " {'position': array(26.27957929), 'score': array(545.9388121)},\n",
       " {'position': array(43.23317839), 'score': array(1622.70864315)},\n",
       " {'position': array(40.01374812), 'score': array(1374.01755)},\n",
       " {'position': array(43.66952668), 'score': array(1658.01040038)},\n",
       " {'position': array(45.61106232), 'score': array(1819.7026321)},\n",
       " {'position': array(20.23532298), 'score': array(301.05635837)},\n",
       " {'position': array(95.0881433), 'score': array(8484.22613686)},\n",
       " {'position': array(68.38554688), 'score': array(4279.26974038)},\n",
       " {'position': array(81.46560037), 'score': array(6160.85044077)},\n",
       " {'position': array(90.12753398), 'score': array(7595.20717806)},\n",
       " {'position': array(86.77881815), 'score': array(7022.8903705)},\n",
       " {'position': array(8.80629771), 'score': array(37.71309311)},\n",
       " {'position': array(69.09814549), 'score': array(4372.96483777)},\n",
       " {'position': array(93.1176118), 'score': array(8125.18395577)},\n",
       " {'position': array(83.55024139), 'score': array(6492.34138742)},\n",
       " {'position': array(47.30105114), 'score': array(1966.58313201)},\n",
       " {'position': array(74.64738847), 'score': array(5137.34827494)},\n",
       " {'position': array(22.38963173), 'score': array(379.9578187)},\n",
       " {'position': array(50.96526678), 'score': array(2304.66681701)},\n",
       " {'position': array(21.50686026), 'score': array(346.50387676)},\n",
       " {'position': array(36.98614659), 'score': array(1159.05816021)},\n",
       " {'position': array(69.03246421), 'score': array(4364.28633029)},\n",
       " {'position': array(83.42890606), 'score': array(6472.80893028)},\n",
       " {'position': array(76.02749047), 'score': array(5337.01436372)},\n",
       " {'position': array(34.24477751), 'score': array(980.23612171)},\n",
       " {'position': array(29.08786918), 'score': array(684.57691823)},\n",
       " {'position': array(33.39894318), 'score': array(928.09574625)},\n",
       " {'position': array(42.21128731), 'score': array(1541.52505288)}]"
      ]
     },
     "execution_count": 17,
     "metadata": {},
     "output_type": "execute_result"
    }
   ],
   "source": [
    "wolfs = [generate_wolf() for _ in range(NUM_WOLFS)]\n",
    "wolfs"
   ]
  }
 ],
 "metadata": {
  "kernelspec": {
   "display_name": ".venv",
   "language": "python",
   "name": "python3"
  },
  "language_info": {
   "codemirror_mode": {
    "name": "ipython",
    "version": 3
   },
   "file_extension": ".py",
   "mimetype": "text/x-python",
   "name": "python",
   "nbconvert_exporter": "python",
   "pygments_lexer": "ipython3",
   "version": "3.10.12"
  }
 },
 "nbformat": 4,
 "nbformat_minor": 2
}
