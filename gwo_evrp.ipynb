{
 "cells": [
  {
   "cell_type": "code",
   "execution_count": 228,
   "metadata": {},
   "outputs": [],
   "source": [
    "import numpy as np  # type: ignore\n",
    "import matplotlib.pyplot as plt  # type: ignore\n",
    "import pandas as pd  # type: ignore\n",
    "import math as m\n",
    "import random"
   ]
  },
  {
   "cell_type": "code",
   "execution_count": 229,
   "metadata": {},
   "outputs": [],
   "source": [
    "NUM_ITERATIONS = 10\n",
    "NUM_WOLFS = 10"
   ]
  },
  {
   "cell_type": "code",
   "execution_count": 230,
   "metadata": {},
   "outputs": [],
   "source": [
    "NUM_INTERVALS = 96"
   ]
  },
  {
   "cell_type": "code",
   "execution_count": 231,
   "metadata": {},
   "outputs": [
    {
     "data": {
      "text/html": [
       "<div>\n",
       "<style scoped>\n",
       "    .dataframe tbody tr th:only-of-type {\n",
       "        vertical-align: middle;\n",
       "    }\n",
       "\n",
       "    .dataframe tbody tr th {\n",
       "        vertical-align: top;\n",
       "    }\n",
       "\n",
       "    .dataframe thead th {\n",
       "        text-align: right;\n",
       "    }\n",
       "</style>\n",
       "<table border=\"1\" class=\"dataframe\">\n",
       "  <thead>\n",
       "    <tr style=\"text-align: right;\">\n",
       "      <th></th>\n",
       "      <th>Modelo</th>\n",
       "      <th>Capacidade (km)</th>\n",
       "      <th>ID</th>\n",
       "      <th>Disponibilidade</th>\n",
       "      <th>Viagem</th>\n",
       "      <th>Capacidade</th>\n",
       "      <th>Capacidade da bateria (kWh)</th>\n",
       "      <th>Taxa de carga da bateria (kW)</th>\n",
       "      <th>Taxa de descarga da bateria (kW)</th>\n",
       "      <th>Taxa de carga específica (kW)</th>\n",
       "    </tr>\n",
       "  </thead>\n",
       "  <tbody>\n",
       "    <tr>\n",
       "      <th>0</th>\n",
       "      <td>1.0</td>\n",
       "      <td>170.0</td>\n",
       "      <td>1.0</td>\n",
       "      <td>0.0</td>\n",
       "      <td>0.0</td>\n",
       "      <td>4.0</td>\n",
       "      <td>44.9</td>\n",
       "      <td>8.98</td>\n",
       "      <td>-12.5</td>\n",
       "      <td>3.961765</td>\n",
       "    </tr>\n",
       "    <tr>\n",
       "      <th>1</th>\n",
       "      <td>2.0</td>\n",
       "      <td>230.0</td>\n",
       "      <td>2.0</td>\n",
       "      <td>0.0</td>\n",
       "      <td>0.0</td>\n",
       "      <td>5.0</td>\n",
       "      <td>229.0</td>\n",
       "      <td>45.80</td>\n",
       "      <td>-25.0</td>\n",
       "      <td>14.934783</td>\n",
       "    </tr>\n",
       "    <tr>\n",
       "      <th>2</th>\n",
       "      <td>3.0</td>\n",
       "      <td>230.0</td>\n",
       "      <td>3.0</td>\n",
       "      <td>0.0</td>\n",
       "      <td>0.0</td>\n",
       "      <td>3.0</td>\n",
       "      <td>174.0</td>\n",
       "      <td>34.80</td>\n",
       "      <td>-25.0</td>\n",
       "      <td>11.347826</td>\n",
       "    </tr>\n",
       "  </tbody>\n",
       "</table>\n",
       "</div>"
      ],
      "text/plain": [
       "   Modelo  Capacidade (km)   ID  Disponibilidade  Viagem  Capacidade  \\\n",
       "0     1.0            170.0  1.0              0.0     0.0         4.0   \n",
       "1     2.0            230.0  2.0              0.0     0.0         5.0   \n",
       "2     3.0            230.0  3.0              0.0     0.0         3.0   \n",
       "\n",
       "   Capacidade da bateria (kWh)  Taxa de carga da bateria (kW)  \\\n",
       "0                         44.9                           8.98   \n",
       "1                        229.0                          45.80   \n",
       "2                        174.0                          34.80   \n",
       "\n",
       "   Taxa de descarga da bateria (kW)  Taxa de carga específica (kW)  \n",
       "0                             -12.5                       3.961765  \n",
       "1                             -25.0                      14.934783  \n",
       "2                             -25.0                      11.347826  "
      ]
     },
     "execution_count": 231,
     "metadata": {},
     "output_type": "execute_result"
    }
   ],
   "source": [
    "# Matriz de carros: 1-Modelo | 2-Capacidade (kM) | 3-ID | 4-disponibilidade | 5-viagem | 6-Capacidade | 7-Capacidade da bateria (kWh) | 8-Taxa de carga da bateria (kW) | 9-Taxa de descarga da bateria (kW)\n",
    "cars_array = np.array(\n",
    "    [\n",
    "        [1, 170, 1, 0, 0, 4, 44.9, 0.2 * 44.9, -50 / 4, (60 / 170) * 44.9 * 0.25],\n",
    "        [2, 230, 2, 0, 0, 5, 229, 0.2 * 229, -100 / 4, (60 / 230) * 229 * 0.25],\n",
    "        [3, 230, 3, 0, 0, 3, 174, 0.2 * 174, -100 / 4, (60 / 230) * 174 * 0.25],\n",
    "    ]\n",
    ")\n",
    "df = pd.DataFrame(\n",
    "    cars_array,\n",
    "    columns=[\n",
    "        \"Modelo\",\n",
    "        \"Capacidade (km)\",\n",
    "        \"ID\",\n",
    "        \"Disponibilidade\",\n",
    "        \"Viagem\",\n",
    "        \"Capacidade\",\n",
    "        \"Capacidade da bateria (kWh)\",\n",
    "        \"Taxa de carga da bateria (kW)\",\n",
    "        \"Taxa de descarga da bateria (kW)\",\n",
    "        \"Taxa de carga específica (kW)\",\n",
    "    ],\n",
    ")\n",
    "\n",
    "df.head()"
   ]
  },
  {
   "cell_type": "code",
   "execution_count": 232,
   "metadata": {},
   "outputs": [],
   "source": [
    "cars = [\n",
    "    {\n",
    "        \"autonomy_km\": car[1],\n",
    "        \"autonomy_kwh\": car[6],\n",
    "        \"tx_charge\": car[7],\n",
    "        \"tx_discharge\": np.abs(car[8]),\n",
    "    }\n",
    "    for car in cars_array\n",
    "]"
   ]
  },
  {
   "cell_type": "code",
   "execution_count": 233,
   "metadata": {},
   "outputs": [
    {
     "name": "stdout",
     "output_type": "stream",
     "text": [
      "{'autonomy_km': np.float64(170.0), 'autonomy_kwh': np.float64(44.9), 'tx_charge': np.float64(8.98), 'tx_discharge': np.float64(12.5)}\n",
      "{'autonomy_km': np.float64(230.0), 'autonomy_kwh': np.float64(229.0), 'tx_charge': np.float64(45.800000000000004), 'tx_discharge': np.float64(25.0)}\n",
      "{'autonomy_km': np.float64(230.0), 'autonomy_kwh': np.float64(174.0), 'tx_charge': np.float64(34.800000000000004), 'tx_discharge': np.float64(25.0)}\n"
     ]
    }
   ],
   "source": [
    "for car in cars:\n",
    "    print(car)"
   ]
  },
  {
   "cell_type": "code",
   "execution_count": 234,
   "metadata": {},
   "outputs": [],
   "source": [
    "travels = [\n",
    "    [(15, 20), (48, 55), (90, 92)],\n",
    "    [(17, 24), (90, 92)],\n",
    "    [(50, 55), (76, 89)],\n",
    "]"
   ]
  },
  {
   "cell_type": "code",
   "execution_count": 235,
   "metadata": {},
   "outputs": [],
   "source": [
    "def find_available_intervals(occupied_positions):\n",
    "    available_intervals = []\n",
    "    current_start = 0\n",
    "\n",
    "    for start, end in sorted(occupied_positions):\n",
    "        if current_start < start:\n",
    "            available_intervals.append((current_start, start - 1))\n",
    "        current_start = end + 1\n",
    "\n",
    "    if current_start < NUM_INTERVALS:\n",
    "        available_intervals.append((current_start, NUM_INTERVALS - 1))\n",
    "\n",
    "    return available_intervals"
   ]
  },
  {
   "cell_type": "code",
   "execution_count": 236,
   "metadata": {},
   "outputs": [
    {
     "data": {
      "text/plain": [
       "[[(0, 14), (21, 47), (56, 89), (93, 95)],\n",
       " [(0, 16), (25, 89), (93, 95)],\n",
       " [(0, 49), (56, 75), (90, 95)]]"
      ]
     },
     "execution_count": 236,
     "metadata": {},
     "output_type": "execute_result"
    }
   ],
   "source": [
    "available_intervals = [find_available_intervals(travel) for travel in travels]\n",
    "available_intervals"
   ]
  },
  {
   "cell_type": "code",
   "execution_count": 237,
   "metadata": {},
   "outputs": [],
   "source": [
    "def calculate_travel_charge_time(travel, tx_charge, tx_discharge):\n",
    "    start, end = travel\n",
    "    spent_energy = (end - start) * tx_discharge\n",
    "    charge_time = m.ceil(spent_energy / tx_charge)\n",
    "\n",
    "    return charge_time"
   ]
  },
  {
   "cell_type": "code",
   "execution_count": 270,
   "metadata": {},
   "outputs": [
    {
     "data": {
      "text/plain": [
       "[[7, 10, 3, 0], [4, 2, 0], [4, 10, 0]]"
      ]
     },
     "execution_count": 270,
     "metadata": {},
     "output_type": "execute_result"
    }
   ],
   "source": [
    "charge_times = [\n",
    "    [\n",
    "        calculate_travel_charge_time(travel, car[\"tx_charge\"], car[\"tx_discharge\"])\n",
    "        for travel in car_travels\n",
    "    ]\n",
    "    + [0] * (len(available_interval) - len(car_travels))\n",
    "    for car, car_travels, available_interval in zip(\n",
    "        cars.copy(), travels.copy(), available_intervals.copy()\n",
    "    )\n",
    "]\n",
    "charge_times"
   ]
  },
  {
   "cell_type": "code",
   "execution_count": 259,
   "metadata": {},
   "outputs": [],
   "source": [
    "def generate_min_charging_random_vector(total_size, min_charging):\n",
    "    vector = [-1] * min_charging\n",
    "\n",
    "    rand_vector = np.random.choice((-1, 1), size=(total_size - min_charging)).astype(\n",
    "        int\n",
    "    )\n",
    "    vector.extend(rand_vector.tolist())\n",
    "    \n",
    "    np.random.shuffle(vector)\n",
    "\n",
    "    return vector"
   ]
  },
  {
   "cell_type": "code",
   "execution_count": 268,
   "metadata": {},
   "outputs": [
    {
     "name": "stdout",
     "output_type": "stream",
     "text": [
      "[1, 1, 1, -1, 1, -1, 1, -1, 1, -1]\n"
     ]
    }
   ],
   "source": [
    "print(generate_min_charging_random_vector(10, 2))"
   ]
  },
  {
   "cell_type": "code",
   "execution_count": 311,
   "metadata": {},
   "outputs": [
    {
     "data": {
      "text/plain": [
       "[([7, 10, 3, 0], [(0, 14), (21, 47), (56, 89), (93, 95)]),\n",
       " ([4, 2, 0], [(0, 16), (25, 89), (93, 95)]),\n",
       " ([4, 10, 0], [(0, 49), (56, 75), (90, 95)])]"
      ]
     },
     "execution_count": 311,
     "metadata": {},
     "output_type": "execute_result"
    }
   ],
   "source": [
    "[\n",
    "    (charge_time, available_interval)\n",
    "    for charge_time, available_interval in zip(charge_times, available_intervals)\n",
    "]"
   ]
  },
  {
   "cell_type": "code",
   "execution_count": 344,
   "metadata": {},
   "outputs": [
    {
     "data": {
      "text/plain": [
       "[[(7, 0, 14), (10, 21, 47), (3, 56, 89), (0, 93, 95)],\n",
       " [(4, 0, 16), (2, 25, 89), (0, 93, 95)],\n",
       " [(4, 0, 49), (10, 56, 75), (0, 90, 95)]]"
      ]
     },
     "execution_count": 344,
     "metadata": {},
     "output_type": "execute_result"
    }
   ],
   "source": [
    "[\n",
    "    [\n",
    "        (min_charge, *available_interval)\n",
    "        for min_charge, available_interval in zip(\n",
    "            charge_time.copy(), car_available_intervals.copy()\n",
    "        )\n",
    "    ]\n",
    "    for charge_time, car_available_intervals in zip(\n",
    "        charge_times.copy(), available_intervals.copy()\n",
    "    )\n",
    "]"
   ]
  },
  {
   "cell_type": "code",
   "execution_count": 349,
   "metadata": {},
   "outputs": [
    {
     "name": "stdout",
     "output_type": "stream",
     "text": [
      "-1 -1 -1 -1 -1 1 1 -1 1 1 1 -1 -1 -1 -1 -1 -1 -1 -1 -1 1 -1 -1 1 -1 1 -1 1 1 -1 -1 -1 -1 1 -1 -1 1 -1 1 -1 1 -1 1 -1 1 1 1 -1 -1 1 1 1 1 1 1 1 1 -1 -1 -1 -1 1 -1 1 -1 -1 -1 1 -1 -1 1 -1 -1 -1 -1 -1 -1 1 -1 1 -1 -1 -1 1 1 -1 -1 -1 -1 -1 1 -1 -1 -1 1 1 -1 1 1 1 -1 -1 -1 1 -1 -1 -1 1 1 -1 1 1 -1 -1 1 1 -1 1 1 -1 1 -1 1 1 1 1 1 -1 1 -1 1 1 1 -1 -1 1 1 1 1 -1 1 1 -1 1 1 -1 -1 -1 1 1 -1 -1 1 1 1 -1 1 1 -1 -1 1 1 -1 -1 -1 -1 1 -1 1 1 -1 -1 -1 -1 1 -1 -1 -1 1 1 1 1 -1 -1 -1 -1 -1 1 -1 1 -1 -1 1 -1 1 -1 -1 -1 1 -1 1 1 1 1 -1 -1 -1 -1 1 1 1 -1 1 -1 -1 -1 -1 -1 -1 1 -1 -1 -1 -1 -1 1 1 -1 -1 1 -1 -1 -1 -1 1 -1 1 1 -1 1\n",
      "240\n"
     ]
    }
   ],
   "source": [
    "position = [\n",
    "    element\n",
    "    for car_available_lists in [\n",
    "        (\n",
    "            generate_min_charging_random_vector(end - start + 1, min_charge)\n",
    "            for (start, end), min_charge in zip(car_available_intervals, charge_time)\n",
    "        )\n",
    "        for charge_time, car_available_intervals in zip(\n",
    "            charge_times, available_intervals\n",
    "        )\n",
    "    ]\n",
    "    for available_list in car_available_lists\n",
    "    for element in available_list\n",
    "]\n",
    "print(*position)\n",
    "print(len(position))"
   ]
  },
  {
   "cell_type": "code",
   "execution_count": 323,
   "metadata": {},
   "outputs": [
    {
     "data": {
      "text/plain": [
       "[[(7, 0, 14), (10, 21, 47), (3, 56, 89), (0, 93, 95)],\n",
       " [(4, 0, 16), (2, 25, 89), (0, 93, 95)],\n",
       " [(4, 0, 49), (10, 56, 75), (0, 90, 95)]]"
      ]
     },
     "execution_count": 323,
     "metadata": {},
     "output_type": "execute_result"
    }
   ],
   "source": [
    "[\n",
    "    [  # generate_min_charging_random_vector(end-start+1, min_charge)\n",
    "    \n",
    "        (min_charge, start, end)\n",
    "        for min_charge, (start, end) in zip(\n",
    "            charge_time.copy(), car_available_intervals.copy()\n",
    "        )\n",
    "    ]\n",
    "    for charge_time, car_available_intervals in zip(\n",
    "        charge_times.copy(), available_intervals.copy()\n",
    "    )\n",
    "]"
   ]
  },
  {
   "cell_type": "code",
   "execution_count": null,
   "metadata": {},
   "outputs": [
    {
     "name": "stdout",
     "output_type": "stream",
     "text": [
      "0 0 0 0 0 1 1 1 0 0 1 0 1 0 0 0 0 0 0 0 0 0 1 0 0 1 1 1 0 1 1 1 1 0 0 1 0 0 0 0 0 0 1 1 1 1 1 0 0 0 0 0 1 1 1 1 0 0 0 0 1 1 0 0 1 0 0 0 0 0 1 0 1 1 1 1 0 0 1 0 0 1 0 0 1 1 0 0 0 1 0 0 0 1 1 1 0 1 0 0 1 0 1 1 0 1 1 1 0 0 0 0 1 1 1 0 1 1 1 0 1 0 1 1 1 0 0 1 0 0 0 0 0 0 0 0 0 0 1 1 0 0 0 0 0 0 0 1 1 1 0 1 0 1 0 0 0 0 0 0 0 1 1 0 1 0 0 0 0 0 1 1 1 1 0 1 1 1 0 1 0 1 1 0 1 1 1 0 0 0 0 0 1 1 0 0 1 0 1 1 0 0 0 0 0 0 1 0 0 0 0 0 1 0 0 0 1 0 0 0 1 0 0 0 0 0 0 0 0 0 0 0 0 0 0 1 0 0 0 1\n"
     ]
    }
   ],
   "source": [
    "car_state_in_time = []\n",
    "\n",
    "for available_slots, times in zip(available_intervals.copy(), time_to_charge.copy()):\n",
    "    state_in_time = np.full(NUM_INTERVALS, -1)\n",
    "\n",
    "    for slot, time in zip(available_slots.copy(), times.copy()):\n",
    "        start, end = slot\n",
    "\n",
    "        car_state_in_time.extend(\n",
    "            generate_min_zeros_random_vector(end - start + 1, time)\n",
    "        )\n",
    "\n",
    "print(*car_state_in_time)"
   ]
  },
  {
   "cell_type": "code",
   "execution_count": null,
   "metadata": {},
   "outputs": [
    {
     "name": "stdout",
     "output_type": "stream",
     "text": [
      "Lista resultante: [1, 2, 10, 20, 30, 3, 4, 5]\n"
     ]
    }
   ],
   "source": [
    "# Lista original\n",
    "original_list = [1, 2, 3, 4, 5]\n",
    "\n",
    "# Lista a ser inserida\n",
    "insert_list = [10, 20, 30]\n",
    "\n",
    "# Posição onde a lista será inserida\n",
    "position = 2\n",
    "\n",
    "# Inserindo a lista na posição especificada usando extend()\n",
    "original_list[position:position] = insert_list\n",
    "\n",
    "print(\"Lista resultante:\", original_list)"
   ]
  }
 ],
 "metadata": {
  "kernelspec": {
   "display_name": ".venv",
   "language": "python",
   "name": "python3"
  },
  "language_info": {
   "codemirror_mode": {
    "name": "ipython",
    "version": 3
   },
   "file_extension": ".py",
   "mimetype": "text/x-python",
   "name": "python",
   "nbconvert_exporter": "python",
   "pygments_lexer": "ipython3",
   "version": "3.10.12"
  }
 },
 "nbformat": 4,
 "nbformat_minor": 2
}
