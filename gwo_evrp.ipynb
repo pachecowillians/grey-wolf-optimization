{
 "cells": [
  {
   "cell_type": "code",
   "execution_count": 369,
   "metadata": {},
   "outputs": [],
   "source": [
    "import numpy as np  # type: ignore\n",
    "import matplotlib.pyplot as plt  # type: ignore\n",
    "import random\n",
    "import math as m\n",
    "import pandas as pd"
   ]
  },
  {
   "cell_type": "code",
   "execution_count": 370,
   "metadata": {},
   "outputs": [],
   "source": [
    "NUM_ITERATIONS = 10\n",
    "NUM_WOLFS = 10\n",
    "NUM_INTERVALS = 96"
   ]
  },
  {
   "cell_type": "code",
   "execution_count": 371,
   "metadata": {},
   "outputs": [],
   "source": [
    "def insert_travels_in_cars_state(cars_state, travels):\n",
    "    cars_state_copy = cars_state.copy()\n",
    "    cars_state_copy = list(cars_state_copy)\n",
    "    for i, car_travels in enumerate(travels):\n",
    "        for travel in car_travels:\n",
    "            start, end = travel\n",
    "            position = start + 96 * i\n",
    "            cars_state_copy[position:position] = [0] * (end - start + 1)\n",
    "\n",
    "    return cars_state_copy"
   ]
  },
  {
   "cell_type": "code",
   "execution_count": 372,
   "metadata": {},
   "outputs": [],
   "source": [
    "def split_list(lst, chunk_size=NUM_INTERVALS):\n",
    "    return [lst[i : i + chunk_size] for i in range(0, len(lst), chunk_size)]"
   ]
  },
  {
   "cell_type": "code",
   "execution_count": 373,
   "metadata": {},
   "outputs": [],
   "source": [
    "def calculate_car_power(car_states, car):\n",
    "    car_power = []\n",
    "    for state in car_states:\n",
    "        if state == 1:\n",
    "            car_power.append(car[\"tx_charge\"])\n",
    "        elif state == -1:\n",
    "            car_power.append(-car[\"tx_discharge\"])\n",
    "        else:\n",
    "            car_power.append(0)\n",
    "\n",
    "    return car_power"
   ]
  },
  {
   "cell_type": "code",
   "execution_count": 374,
   "metadata": {},
   "outputs": [],
   "source": [
    "def cost_function(sample, travels, cars, generated_power, products_demand, energy_cost):\n",
    "    cars_state_with_travels = insert_travels_in_cars_state(sample, travels)\n",
    "    separated_cars_state = split_list(cars_state_with_travels)\n",
    "    cars_power = [\n",
    "        calculate_car_power(car_states, car)\n",
    "        for car_states, car in zip(separated_cars_state, cars)\n",
    "    ]\n",
    "    total_cars_power = np.sum(cars_power, axis=0)\n",
    "    total_liquid_power = generated_power - products_demand - total_cars_power\n",
    "    money_in_time = total_liquid_power * energy_cost\n",
    "    total_money_cost = np.sum(money_in_time)\n",
    "\n",
    "    return -total_money_cost.tolist()"
   ]
  },
  {
   "cell_type": "code",
   "execution_count": 375,
   "metadata": {},
   "outputs": [],
   "source": [
    "def generate_min_charging_random_vector(total_size, min_charging, car):\n",
    "    vector = []\n",
    "    car_battery = 0\n",
    "    is_charged = False\n",
    "\n",
    "    for i in range(total_size):\n",
    "        if i == 0:\n",
    "            choice = 1\n",
    "        elif car_battery - car[\"tx_discharge\"] >= 0 and not is_charged:\n",
    "            choice = random.choice([-1, 1])\n",
    "        elif car_battery - car[\"tx_discharge\"] >= 0:\n",
    "            choice = -1\n",
    "        elif not is_charged:\n",
    "            choice = 1\n",
    "\n",
    "        vector_aux = vector.copy()\n",
    "        vector_aux.append(choice)\n",
    "        vector_aux.append((total_size - i - 1) * [1])\n",
    "        chargings = vector_aux.count(1)\n",
    "        dischargings = vector_aux.count(-1)\n",
    "\n",
    "        if (\n",
    "            chargings * car[\"tx_charge\"] - dischargings * car[\"tx_discharge\"]\n",
    "            < min_charging * car[\"tx_charge\"]\n",
    "        ):\n",
    "            choice = 1\n",
    "\n",
    "        if choice == -1:\n",
    "            car_battery -= car[\"tx_discharge\"]\n",
    "            is_charged = False\n",
    "        else:\n",
    "            car_battery += car[\"tx_charge\"]\n",
    "\n",
    "        if car_battery >= car[\"autonomy_kwh\"]:\n",
    "            car_battery = car[\"autonomy_kwh\"]\n",
    "            is_charged = True\n",
    "\n",
    "        vector.append(choice)\n",
    "\n",
    "    return vector"
   ]
  },
  {
   "cell_type": "code",
   "execution_count": 376,
   "metadata": {},
   "outputs": [],
   "source": [
    "def generate_cars_state(charge_times, available_intervals, cars):\n",
    "    return [\n",
    "        element\n",
    "        for available_list in [\n",
    "            generate_min_charging_random_vector(end - start + 1, min_charge, car)\n",
    "            for charge_time, car_available_intervals, car in zip(\n",
    "                charge_times, available_intervals, cars\n",
    "            )\n",
    "            for (start, end), min_charge in zip(car_available_intervals, charge_time)\n",
    "        ]\n",
    "        for element in available_list\n",
    "    ]"
   ]
  },
  {
   "cell_type": "code",
   "execution_count": 377,
   "metadata": {},
   "outputs": [],
   "source": [
    "def find_available_intervals(occupied_positions):\n",
    "    available_intervals = []\n",
    "    current_start = 0\n",
    "\n",
    "    for start, end in sorted(occupied_positions):\n",
    "        if current_start < start:\n",
    "            available_intervals.append((current_start, start - 1))\n",
    "        current_start = end + 1\n",
    "\n",
    "    if current_start < NUM_INTERVALS:\n",
    "        available_intervals.append((current_start, NUM_INTERVALS - 1))\n",
    "\n",
    "    return available_intervals"
   ]
  },
  {
   "cell_type": "code",
   "execution_count": 378,
   "metadata": {},
   "outputs": [],
   "source": [
    "def calculate_travel_charge_time(travel, tx_charge, tx_discharge):\n",
    "    start, end = travel\n",
    "    spent_energy = (end - start + 1) * tx_discharge\n",
    "    charge_time = m.ceil(spent_energy / tx_charge)\n",
    "\n",
    "    return charge_time"
   ]
  },
  {
   "cell_type": "code",
   "execution_count": 379,
   "metadata": {},
   "outputs": [],
   "source": [
    "def calculate_charge_times(available_intervals, travels, cars):\n",
    "    return [\n",
    "        [\n",
    "            calculate_travel_charge_time(travel, car[\"tx_charge\"], car[\"tx_discharge\"])\n",
    "            for travel in car_travels\n",
    "        ]\n",
    "        + [0] * (len(available_interval) - len(car_travels))\n",
    "        for car, car_travels, available_interval in zip(\n",
    "            cars.copy(), travels.copy(), available_intervals.copy()\n",
    "        )\n",
    "    ]"
   ]
  },
  {
   "cell_type": "code",
   "execution_count": 380,
   "metadata": {},
   "outputs": [],
   "source": [
    "def PotGD():\n",
    "    \"\"\"\n",
    "    Calcula a potência gerada pela GD (gerador distribuído) em um quarto de dia (24 horas).\n",
    "\n",
    "    Retorna:\n",
    "        potenciaGeradaQuarter: vetor com a potência gerada a cada 15 minutos (num_intervals valores).\n",
    "    \"\"\"\n",
    "\n",
    "    # Leitura de dados meteorológicos\n",
    "    dados_met = pd.read_csv(\"./DadosMeterologicos2024.csv\", delimiter=\";\", header=0)\n",
    "\n",
    "    # Conversão da tabela em matriz\n",
    "    dados_met = dados_met.to_numpy()\n",
    "\n",
    "    # Parâmetros do aerogerador VERNE 555\n",
    "    vel_corte_entrada = 2.2\n",
    "    vel_corte_saida = 16\n",
    "\n",
    "    # Velocidades e potências do aerogerador\n",
    "    velocidades = [2.2, 6, 7.1, 8.2, 9, 9.7, 10.5, 10.8, 13.8, 16]\n",
    "    potencias = [0, 1, 2, 3, 4, 5, 6, 6.5, 7, 6.7]\n",
    "\n",
    "    # Coeficientes da polinômia de ajuste\n",
    "    coeficientes = np.polyfit(velocidades, potencias, 5)\n",
    "\n",
    "    # Número de linhas da tabela de dados meteorológicos\n",
    "    num_linhas = dados_met.shape[0]\n",
    "\n",
    "    # Cálculo da potência do aerogerador por hora\n",
    "    potencia_aero = np.zeros(num_linhas)\n",
    "    for i in range(num_linhas):\n",
    "\n",
    "        if dados_met[i, 2] >= vel_corte_entrada and dados_met[i, 2] <= vel_corte_saida:\n",
    "            # Cálculo da potência usando a polinômia de ajuste\n",
    "            potencia_aero[i] = (\n",
    "                coeficientes[0] * dados_met[i, 2] ** 5\n",
    "                + coeficientes[1] * dados_met[i, 2] ** 4\n",
    "                + coeficientes[2] * dados_met[i, 2] ** 3\n",
    "                + coeficientes[3] * dados_met[i, 2] ** 2\n",
    "                + coeficientes[4] * dados_met[i, 2]\n",
    "                + coeficientes[5]\n",
    "            )\n",
    "        elif dados_met[i, 2] > vel_corte_saida:\n",
    "            # Potência máxima do aerogerador\n",
    "            potencia_aero[i] = 6.7\n",
    "        else:\n",
    "            # Potência zero\n",
    "            potencia_aero[i] = 0\n",
    "\n",
    "        # Correção para valores negativos (erro de arredondamento)\n",
    "        if potencia_aero[i] < 0:\n",
    "            potencia_aero[i] = 0\n",
    "\n",
    "    # Conversão para kW\n",
    "    potencia_aero *= 1000\n",
    "\n",
    "    # Cálculo da potência gerada pelos painéis fotovoltaicos (modelo 4 CS3Y 500ms)\n",
    "    num_paineis = 1  # Número de painéis\n",
    "    temp_nominal = 42  # Temperatura nominal de operação da célula (oC)\n",
    "    isc = 11.77  # Corrente de curto circuito da célula (A)\n",
    "    ki = 0.05  # Coeficiente de corrente/temperatura (A/oC)\n",
    "    voc = 53.7  # Tensão de circuito aberto do módulo (V)\n",
    "    kv = 0.26  # Coeficiente de tensão/temperatura (V/oC)\n",
    "    vmppt = 45  # Tensão no ponto de máxima potência (V)\n",
    "    imppt = 11.12  # Corrente no ponto de máxima potência (A)\n",
    "\n",
    "    potencia_pv = np.zeros(num_linhas)\n",
    "\n",
    "    for i in range(num_linhas):\n",
    "        ta = dados_met[i, 1]\n",
    "        r = dados_met[i, 0] / 3600\n",
    "        tc = ta + r * (temp_nominal - 20) / 0.8\n",
    "        i_pv = r * (isc + ki * (tc - 25))\n",
    "        v_pv = voc - kv * (tc - 25)\n",
    "        ff = (vmppt * imppt) / (voc * isc)\n",
    "        potencia_pv[i] = num_paineis * ff * v_pv * i_pv\n",
    "\n",
    "    # Combinação das potências\n",
    "    pot = (2 * potencia_aero + 40 * potencia_pv) / 1000\n",
    "\n",
    "    # Interpolação e ajuste dos valores\n",
    "    potenciaGeradaQuarter = preencher_vetores_interpolacao(pot, NUM_INTERVALS) * 0.25\n",
    "\n",
    "    for i in range(1, len(potenciaGeradaQuarter) - 1):\n",
    "        if (\n",
    "            potenciaGeradaQuarter[i - 1] > 0\n",
    "            and potenciaGeradaQuarter[i + 1] > 0\n",
    "            and potenciaGeradaQuarter[i] == 0\n",
    "        ):\n",
    "            potenciaGeradaQuarter[i] = (\n",
    "                potenciaGeradaQuarter[i - 1] + potenciaGeradaQuarter[i + 1]\n",
    "            ) / 2\n",
    "\n",
    "    return potenciaGeradaQuarter"
   ]
  },
  {
   "cell_type": "code",
   "execution_count": 381,
   "metadata": {},
   "outputs": [],
   "source": [
    "def preencher_vetores_interpolacao(your_existing_data, size_wanted):\n",
    "    # Your existing data with 1000 values\n",
    "    existing_data = your_existing_data  # Replace with your data\n",
    "\n",
    "    # Desired number of positions\n",
    "    desired_length = size_wanted\n",
    "\n",
    "    # Create a new array to hold the interpolated data\n",
    "    interpolated_data = np.zeros(desired_length)\n",
    "\n",
    "    # Calculate the number of intervals between existing data points\n",
    "    num_intervals = len(existing_data) - 1\n",
    "\n",
    "    # Calculate the step size to insert between existing data points\n",
    "    step_size = 1 / (num_intervals + 1)\n",
    "\n",
    "    # Loop through the existing data points and interpolate values\n",
    "    for i in range(num_intervals):\n",
    "        start_index = int((i * desired_length) / num_intervals)\n",
    "        end_index = int(((i + 1) * desired_length) / num_intervals)\n",
    "\n",
    "        # Linear interpolation between existing_data[i] and existing_data[i+1]\n",
    "        interpolated_data[start_index:end_index] = np.linspace(\n",
    "            existing_data[i], existing_data[i + 1], end_index - start_index\n",
    "        )\n",
    "\n",
    "    # Fill the remaining positions with the last value in existing_data\n",
    "    interpolated_data[end_index + 1 :] = existing_data[-1]\n",
    "\n",
    "    return interpolated_data"
   ]
  },
  {
   "cell_type": "code",
   "execution_count": 382,
   "metadata": {},
   "outputs": [],
   "source": [
    "def calculate_products_demand():\n",
    "    # horario que os produtos ficam prontos\n",
    "    num_elementos = 30\n",
    "\n",
    "    # Produção de entrega 4 até as 22\n",
    "    horaProducao = 4 + (18 * np.random.rand(num_elementos, 1))\n",
    "\n",
    "    # Inicializando a curva de demanda total dos produtos fabricados\n",
    "    horaFinalProducao = horaProducao\n",
    "    horaInicialProducao = horaProducao - 2\n",
    "\n",
    "    # Número de intervalos de tempo em um dia (24 horas discretizadas em 15 minutos)\n",
    "    numIntervalos = int(24 * 60 / 15)\n",
    "\n",
    "    # Inicializando a curva de demanda total\n",
    "    curvaDemandaTotal = np.zeros(numIntervalos)\n",
    "\n",
    "    # Iterando sobre cada produto\n",
    "    for i in range(len(horaProducao)):\n",
    "        # Convertendo a hora inicial e final do produto em intervalos de 15 minutos\n",
    "        inicioProduto = int(horaInicialProducao[i] * 4)\n",
    "        finalProduto = int(horaFinalProducao[i] * 4)\n",
    "\n",
    "        # Garantindo que o intervalo do produto esteja dentro dos limites do dia\n",
    "        inicioProduto = max(1, inicioProduto)\n",
    "        finalProduto = min(finalProduto, numIntervalos)\n",
    "\n",
    "        # Adicionando a demanda do produto na curva de demanda total\n",
    "        curvaDemandaTotal[inicioProduto:finalProduto] += 1\n",
    "\n",
    "    # Calculando a potência total demandada (considerando que cada produto consome 4 kW)\n",
    "    curvaDemandaTotal *= 4\n",
    "\n",
    "    return curvaDemandaTotal\n"
   ]
  },
  {
   "cell_type": "code",
   "execution_count": 383,
   "metadata": {},
   "outputs": [],
   "source": [
    "def calculate_energy_cost():\n",
    "    foraponta = 0.46429 / 4  # R$/kWh\n",
    "    intermediario = 0.69813 / 4  # R$/kWh\n",
    "    ponta = 1.09716 / 4  # R$/kWh\n",
    "    energy_cost = np.zeros(NUM_INTERVALS)\n",
    "\n",
    "    # Divide o dia em intervalos e atribui o custo de energia correspondente a cada intervalo\n",
    "    for i in range(NUM_INTERVALS):\n",
    "        if 18 <= i / 4 < 19:\n",
    "            energy_cost[i] = intermediario\n",
    "        elif 19 <= i / 4 < 22:\n",
    "            energy_cost[i] = ponta\n",
    "        elif 22 <= i / 4 < 23:\n",
    "            energy_cost[i] = intermediario\n",
    "        else:\n",
    "            energy_cost[i] = foraponta\n",
    "\n",
    "    return energy_cost"
   ]
  },
  {
   "cell_type": "code",
   "execution_count": 384,
   "metadata": {},
   "outputs": [],
   "source": [
    "def is_valid_providing_list(cars_state, car):\n",
    "    car_energy = 0\n",
    "    is_charged = False\n",
    "\n",
    "    for state in cars_state:\n",
    "        if state <= 0:\n",
    "            car_energy -= car[\"tx_discharge\"]\n",
    "            is_charged = False\n",
    "        else:\n",
    "            car_energy += car[\"tx_charge\"]\n",
    "\n",
    "        if car_energy < 0:\n",
    "            return False\n",
    "        if car_energy >= car[\"max_capacity\"]:\n",
    "            car_energy = car[\"max_capacity\"]\n",
    "            is_charged = True\n",
    "\n",
    "        if is_charged and state == 1:\n",
    "            return False\n",
    "\n",
    "    return True"
   ]
  },
  {
   "cell_type": "code",
   "execution_count": 385,
   "metadata": {},
   "outputs": [],
   "source": [
    "def generate_wolf(\n",
    "    charge_times,\n",
    "    available_intervals,\n",
    "    cars,\n",
    "    cars_state,\n",
    "    travels,\n",
    "    generated_power,\n",
    "    products_demand,\n",
    "    energy_cost,\n",
    "):\n",
    "    position = generate_cars_state(charge_times, available_intervals, cars)\n",
    "\n",
    "    return {\n",
    "        \"position\": position,\n",
    "        \"score\": cost_function(\n",
    "            position,\n",
    "            travels,\n",
    "            cars,\n",
    "            generated_power,\n",
    "            products_demand,\n",
    "            energy_cost,\n",
    "        ),\n",
    "        \"type\": \"omega\",\n",
    "    }"
   ]
  },
  {
   "cell_type": "code",
   "execution_count": 386,
   "metadata": {},
   "outputs": [],
   "source": [
    "def determine_leaders(wolfs):\n",
    "    for wolf in wolfs:\n",
    "        wolf[\"type\"] = \"omega\"\n",
    "\n",
    "    wolfs = sorted(wolfs, key=lambda x: x[\"score\"])\n",
    "    wolfs[0][\"type\"] = \"alpha\"\n",
    "    wolfs[1][\"type\"] = \"beta\"\n",
    "    wolfs[2][\"type\"] = \"delta\"\n",
    "    \n",
    "    return wolfs"
   ]
  },
  {
   "cell_type": "code",
   "execution_count": 387,
   "metadata": {},
   "outputs": [],
   "source": [
    "def calculate_a(iteration):\n",
    "    return 2 * (1 - iteration / (NUM_ITERATIONS - 1))"
   ]
  },
  {
   "cell_type": "code",
   "execution_count": 388,
   "metadata": {},
   "outputs": [],
   "source": [
    "def calculate_distance(x_leader, x_omega, iteration):\n",
    "    a = calculate_a(iteration)\n",
    "    r1 = np.random.rand()\n",
    "    r2 = np.random.rand()\n",
    "    A = 2 * a * r1 - a\n",
    "    C = 2 * r2\n",
    "    D_leader = np.abs(C * np.array(x_leader) - np.array(x_omega))\n",
    "\n",
    "    return D_leader, A"
   ]
  },
  {
   "cell_type": "code",
   "execution_count": 389,
   "metadata": {},
   "outputs": [],
   "source": [
    "def update_position(\n",
    "    wolfs,\n",
    "    iteration,\n",
    "    cars_state,\n",
    "    travels,\n",
    "    cars,\n",
    "    charge_times,\n",
    "    available_intervals,\n",
    "    generated_power,\n",
    "    products_demand,\n",
    "    energy_cost,\n",
    "):\n",
    "    wolfs_to_update = wolfs[3:]\n",
    "\n",
    "    X_alpha = wolfs[0][\"position\"]\n",
    "    X_beta = wolfs[1][\"position\"]\n",
    "    X_delta = wolfs[2][\"position\"]\n",
    "\n",
    "    for omega_wolf in wolfs_to_update:\n",
    "        D_alpha, A_1 = calculate_distance(X_alpha, omega_wolf[\"position\"], iteration)\n",
    "        D_beta, A_2 = calculate_distance(X_beta, omega_wolf[\"position\"], iteration)\n",
    "        D_delta, A_3 = calculate_distance(X_delta, omega_wolf[\"position\"], iteration)\n",
    "\n",
    "        X_1 = X_alpha - A_1 * D_alpha\n",
    "        X_2 = X_beta - A_2 * D_beta\n",
    "        X_3 = X_delta - A_3 * D_delta\n",
    "\n",
    "        omega_wolf[\"position\"] = (X_1 + X_2 + X_3) / 3\n",
    "        omega_wolf[\"position\"] = np.where(omega_wolf[\"position\"] < 0, -1, 1)\n",
    "\n",
    "        # cars_state_with_travels = insert_travels_in_cars_state(cars_state, travels)\n",
    "        # separated_cars_state = split_list(cars_state_with_travels)\n",
    "\n",
    "        # for car_state, car in zip(separated_cars_state, cars):\n",
    "        #     if not is_valid_providing_list(car_state, car):\n",
    "        #         omega_wolf[\"position\"] = generate_cars_state(\n",
    "        #             charge_times, available_intervals, cars\n",
    "        #         )\n",
    "        #         break\n",
    "\n",
    "        # omega_wolf[\"position\"] = omega_wolf[\"position\"].item()\n",
    "        omega_wolf[\"score\"] = cost_function(\n",
    "            omega_wolf[\"position\"],\n",
    "            travels,\n",
    "            cars,\n",
    "            generated_power,\n",
    "            products_demand,\n",
    "            energy_cost,\n",
    "        )"
   ]
  },
  {
   "cell_type": "code",
   "execution_count": 390,
   "metadata": {},
   "outputs": [],
   "source": [
    "def plot(wolfs):\n",
    "    # Obtendo os valores de posição como NumPy array\n",
    "    positions = [wolf[\"score\"] for wolf in wolfs]\n",
    "\n",
    "    # Criando o gráfico com uma linha horizontal e pontos em positions\n",
    "    plt.figure(figsize=(22, 4))\n",
    "    plt.plot(\n",
    "        positions,\n",
    "        [0] * len(positions),\n",
    "        marker=\"o\",\n",
    "        color=\"b\",\n",
    "        linestyle=\"\",\n",
    "        label=\"Pontos\",\n",
    "    )  # Plotando pontos em positions, eixo y fixado em zero\n",
    "    plt.xlabel(\"Valor de X\")  # Nomeando o eixo x\n",
    "    plt.ylabel(\"Valor de Y\")  # Nomeando o eixo y\n",
    "    plt.title(\"Gráfico de Linha Unidimensional com Pontos\")\n",
    "    # plt.xlim(-100, 100)\n",
    "    plt.legend()  # Mostrando a legenda\n",
    "    plt.grid(True)  # Adicionando grade ao gráfico (opcional)\n",
    "    plt.show()  # Exibindo o gráfico"
   ]
  },
  {
   "cell_type": "code",
   "execution_count": 391,
   "metadata": {},
   "outputs": [],
   "source": [
    "cars = [\n",
    "    {\n",
    "        \"autonomy_km\": car[1],\n",
    "        \"autonomy_kwh\": car[6],\n",
    "        \"tx_charge\": np.abs((car[7] / 60) * 15),\n",
    "        \"tx_discharge\": np.abs((car[8] / 60) * 15),\n",
    "    }\n",
    "    for car in [\n",
    "        [1, 170, 1, 0, 0, 4, 44.9, 0.2 * 44.9, -50 / 4, (60 / 170) * 44.9 * 0.25],\n",
    "        [2, 230, 2, 0, 0, 5, 229, 0.2 * 229, -100 / 4, (60 / 230) * 229 * 0.25],\n",
    "        [3, 230, 3, 0, 0, 3, 174, 0.2 * 174, -100 / 4, (60 / 230) * 174 * 0.25],\n",
    "    ]\n",
    "]"
   ]
  },
  {
   "cell_type": "code",
   "execution_count": 392,
   "metadata": {},
   "outputs": [],
   "source": [
    "travels = [\n",
    "    [(15, 20), (48, 55), (90, 92)],\n",
    "    [(17, 24), (90, 92)],\n",
    "    [(50, 55), (76, 89)],\n",
    "]"
   ]
  },
  {
   "cell_type": "code",
   "execution_count": 393,
   "metadata": {},
   "outputs": [],
   "source": [
    "available_intervals = [find_available_intervals(travel) for travel in travels]"
   ]
  },
  {
   "cell_type": "code",
   "execution_count": 394,
   "metadata": {},
   "outputs": [],
   "source": [
    "charge_times = calculate_charge_times(available_intervals, travels, cars)"
   ]
  },
  {
   "cell_type": "code",
   "execution_count": 395,
   "metadata": {},
   "outputs": [],
   "source": [
    "cars_state = generate_cars_state(charge_times, available_intervals, cars)"
   ]
  },
  {
   "cell_type": "code",
   "execution_count": 396,
   "metadata": {},
   "outputs": [],
   "source": [
    "generated_power = PotGD()"
   ]
  },
  {
   "cell_type": "code",
   "execution_count": 397,
   "metadata": {},
   "outputs": [
    {
     "name": "stderr",
     "output_type": "stream",
     "text": [
      "/tmp/ipykernel_20073/1016038112.py:21: DeprecationWarning: Conversion of an array with ndim > 0 to a scalar is deprecated, and will error in future. Ensure you extract a single element from your array before performing this operation. (Deprecated NumPy 1.25.)\n",
      "  inicioProduto = int(horaInicialProducao[i] * 4)\n",
      "/tmp/ipykernel_20073/1016038112.py:22: DeprecationWarning: Conversion of an array with ndim > 0 to a scalar is deprecated, and will error in future. Ensure you extract a single element from your array before performing this operation. (Deprecated NumPy 1.25.)\n",
      "  finalProduto = int(horaFinalProducao[i] * 4)\n"
     ]
    }
   ],
   "source": [
    "products_demand = calculate_products_demand()"
   ]
  },
  {
   "cell_type": "code",
   "execution_count": 398,
   "metadata": {},
   "outputs": [],
   "source": [
    "energy_cost = calculate_energy_cost()"
   ]
  },
  {
   "cell_type": "code",
   "execution_count": 399,
   "metadata": {},
   "outputs": [
    {
     "name": "stdout",
     "output_type": "stream",
     "text": [
      "240\n"
     ]
    }
   ],
   "source": [
    "wolfs = [\n",
    "    generate_wolf(\n",
    "        charge_times,\n",
    "        available_intervals,\n",
    "        cars,\n",
    "        cars_state,\n",
    "        travels,\n",
    "        generated_power,\n",
    "        products_demand,\n",
    "        energy_cost,\n",
    "    )\n",
    "    for _ in range(NUM_WOLFS)\n",
    "]\n",
    "print(len(wolfs[0][\"position\"]))\n"
   ]
  },
  {
   "cell_type": "code",
   "execution_count": 400,
   "metadata": {},
   "outputs": [
    {
     "data": {
      "image/png": "[encoded data removed]",
      "text/plain": [
       "<Figure size 2200x400 with 1 Axes>"
      ]
     },
     "metadata": {},
     "output_type": "display_data"
    }
   ],
   "source": [
    "plot(wolfs)"
   ]
  },
  {
   "cell_type": "code",
   "execution_count": 401,
   "metadata": {},
   "outputs": [
    {
     "name": "stdout",
     "output_type": "stream",
     "text": [
      "Iteration 1\n"
     ]
    },
    {
     "ename": "KeyError",
     "evalue": "'max_capacity'",
     "output_type": "error",
     "traceback": [
      "\u001b[0;31m---------------------------------------------------------------------------\u001b[0m",
      "\u001b[0;31mKeyError\u001b[0m                                  Traceback (most recent call last)",
      "Cell \u001b[0;32mIn[401], line 4\u001b[0m\n\u001b[1;32m      2\u001b[0m \u001b[38;5;28mprint\u001b[39m(\u001b[38;5;124mf\u001b[39m\u001b[38;5;124m\"\u001b[39m\u001b[38;5;124mIteration \u001b[39m\u001b[38;5;132;01m{\u001b[39;00mi\u001b[38;5;241m+\u001b[39m\u001b[38;5;241m1\u001b[39m\u001b[38;5;132;01m}\u001b[39;00m\u001b[38;5;124m\"\u001b[39m)\n\u001b[1;32m      3\u001b[0m wolfs \u001b[38;5;241m=\u001b[39m determine_leaders(wolfs)\n\u001b[0;32m----> 4\u001b[0m \u001b[43mupdate_position\u001b[49m\u001b[43m(\u001b[49m\n\u001b[1;32m      5\u001b[0m \u001b[43m    \u001b[49m\u001b[43mwolfs\u001b[49m\u001b[43m,\u001b[49m\n\u001b[1;32m      6\u001b[0m \u001b[43m    \u001b[49m\u001b[43mi\u001b[49m\u001b[43m,\u001b[49m\n\u001b[1;32m      7\u001b[0m \u001b[43m    \u001b[49m\u001b[43mcars_state\u001b[49m\u001b[43m,\u001b[49m\n\u001b[1;32m      8\u001b[0m \u001b[43m    \u001b[49m\u001b[43mtravels\u001b[49m\u001b[43m,\u001b[49m\n\u001b[1;32m      9\u001b[0m \u001b[43m    \u001b[49m\u001b[43mcars\u001b[49m\u001b[43m,\u001b[49m\n\u001b[1;32m     10\u001b[0m \u001b[43m    \u001b[49m\u001b[43mcharge_times\u001b[49m\u001b[43m,\u001b[49m\n\u001b[1;32m     11\u001b[0m \u001b[43m    \u001b[49m\u001b[43mavailable_intervals\u001b[49m\u001b[43m,\u001b[49m\n\u001b[1;32m     12\u001b[0m \u001b[43m    \u001b[49m\u001b[43mgenerated_power\u001b[49m\u001b[43m,\u001b[49m\n\u001b[1;32m     13\u001b[0m \u001b[43m    \u001b[49m\u001b[43mproducts_demand\u001b[49m\u001b[43m,\u001b[49m\n\u001b[1;32m     14\u001b[0m \u001b[43m    \u001b[49m\u001b[43menergy_cost\u001b[49m\u001b[43m,\u001b[49m\n\u001b[1;32m     15\u001b[0m \u001b[43m\u001b[49m\u001b[43m)\u001b[49m\n",
      "Cell \u001b[0;32mIn[389], line 35\u001b[0m, in \u001b[0;36mupdate_position\u001b[0;34m(wolfs, iteration, cars_state, travels, cars, charge_times, available_intervals, generated_power, products_demand, energy_cost)\u001b[0m\n\u001b[1;32m     32\u001b[0m separated_cars_state \u001b[38;5;241m=\u001b[39m split_list(cars_state_with_travels)\n\u001b[1;32m     34\u001b[0m \u001b[38;5;28;01mfor\u001b[39;00m car_state, car \u001b[38;5;129;01min\u001b[39;00m \u001b[38;5;28mzip\u001b[39m(separated_cars_state, cars):\n\u001b[0;32m---> 35\u001b[0m     \u001b[38;5;28;01mif\u001b[39;00m \u001b[38;5;129;01mnot\u001b[39;00m \u001b[43mis_valid_providing_list\u001b[49m\u001b[43m(\u001b[49m\u001b[43mcar_state\u001b[49m\u001b[43m,\u001b[49m\u001b[43m \u001b[49m\u001b[43mcar\u001b[49m\u001b[43m)\u001b[49m:\n\u001b[1;32m     36\u001b[0m         \u001b[38;5;66;03m# omega_wolf[\"position\"] = generate_cars_state(\u001b[39;00m\n\u001b[1;32m     37\u001b[0m         \u001b[38;5;66;03m#     charge_times, available_intervals, cars\u001b[39;00m\n\u001b[1;32m     38\u001b[0m         \u001b[38;5;66;03m# )\u001b[39;00m\n\u001b[1;32m     39\u001b[0m         \u001b[38;5;28;01mbreak\u001b[39;00m\n\u001b[1;32m     41\u001b[0m \u001b[38;5;66;03m# omega_wolf[\"position\"] = omega_wolf[\"position\"].item()\u001b[39;00m\n",
      "Cell \u001b[0;32mIn[384], line 14\u001b[0m, in \u001b[0;36mis_valid_providing_list\u001b[0;34m(cars_state, car)\u001b[0m\n\u001b[1;32m     12\u001b[0m \u001b[38;5;28;01mif\u001b[39;00m car_energy \u001b[38;5;241m<\u001b[39m \u001b[38;5;241m0\u001b[39m:\n\u001b[1;32m     13\u001b[0m     \u001b[38;5;28;01mreturn\u001b[39;00m \u001b[38;5;28;01mFalse\u001b[39;00m\n\u001b[0;32m---> 14\u001b[0m \u001b[38;5;28;01mif\u001b[39;00m car_energy \u001b[38;5;241m>\u001b[39m\u001b[38;5;241m=\u001b[39m \u001b[43mcar\u001b[49m\u001b[43m[\u001b[49m\u001b[38;5;124;43m\"\u001b[39;49m\u001b[38;5;124;43mmax_capacity\u001b[39;49m\u001b[38;5;124;43m\"\u001b[39;49m\u001b[43m]\u001b[49m:\n\u001b[1;32m     15\u001b[0m     car_energy \u001b[38;5;241m=\u001b[39m car[\u001b[38;5;124m\"\u001b[39m\u001b[38;5;124mmax_capacity\u001b[39m\u001b[38;5;124m\"\u001b[39m]\n\u001b[1;32m     16\u001b[0m     is_charged \u001b[38;5;241m=\u001b[39m \u001b[38;5;28;01mTrue\u001b[39;00m\n",
      "\u001b[0;31mKeyError\u001b[0m: 'max_capacity'"
     ]
    }
   ],
   "source": [
    "for i in range(NUM_ITERATIONS):\n",
    "    print(f\"Iteration {i+1}\")\n",
    "    wolfs = determine_leaders(wolfs)\n",
    "    update_position(\n",
    "        wolfs,\n",
    "        i,\n",
    "        cars_state,\n",
    "        travels,\n",
    "        cars,\n",
    "        charge_times,\n",
    "        available_intervals,\n",
    "        generated_power,\n",
    "        products_demand,\n",
    "        energy_cost,\n",
    "    )"
   ]
  },
  {
   "cell_type": "code",
   "execution_count": null,
   "metadata": {},
   "outputs": [
    {
     "data": {
      "image/png": "[encoded data removed]",
      "text/plain": [
       "<Figure size 2200x400 with 1 Axes>"
      ]
     },
     "metadata": {},
     "output_type": "display_data"
    }
   ],
   "source": [
    "plot(wolfs)"
   ]
  }
 ],
 "metadata": {
  "kernelspec": {
   "display_name": ".venv",
   "language": "python",
   "name": "python3"
  },
  "language_info": {
   "codemirror_mode": {
    "name": "ipython",
    "version": 3
   },
   "file_extension": ".py",
   "mimetype": "text/x-python",
   "name": "python",
   "nbconvert_exporter": "python",
   "pygments_lexer": "ipython3",
   "version": "3.10.12"
  }
 },
 "nbformat": 4,
 "nbformat_minor": 2
}
